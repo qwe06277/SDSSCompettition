{
 "cells": [
  {
   "cell_type": "markdown",
   "metadata": {},
   "source": [
    "1. 라이브러리를 import해옵니다."
   ]
  },
  {
   "cell_type": "code",
   "execution_count": 23,
   "metadata": {},
   "outputs": [],
   "source": [
    "import numpy as np\n",
    "import xgboost as xgb\n",
    "import pandas as pd\n",
    "from sklearn.metrics import accuracy_score\n",
    "from sklearn.model_selection import train_test_split\n",
    "from sklearn.metrics import mean_squared_error\n",
    "from xgboost import plot_importance\n",
    "%matplotlib inline"
   ]
  },
  {
   "cell_type": "markdown",
   "metadata": {},
   "source": [
    "2. 데이터를 불러옵니다."
   ]
  },
  {
   "cell_type": "code",
   "execution_count": 24,
   "metadata": {},
   "outputs": [],
   "source": [
    "# load data\n",
    "train = pd.read_csv(\"./train.csv\", index_col=0)\n",
    "test = pd.read_csv(\"./test.csv\", index_col=0)\n",
    "submission = pd.read_csv(\"./sample_submission.csv\")"
   ]
  },
  {
   "cell_type": "markdown",
   "metadata": {},
   "source": [
    "3. 데이터셋을 만듭니다."
   ]
  },
  {
   "cell_type": "code",
   "execution_count": 25,
   "metadata": {},
   "outputs": [
    {
     "data": {
      "text/html": [
       "<div>\n",
       "<style scoped>\n",
       "    .dataframe tbody tr th:only-of-type {\n",
       "        vertical-align: middle;\n",
       "    }\n",
       "\n",
       "    .dataframe tbody tr th {\n",
       "        vertical-align: top;\n",
       "    }\n",
       "\n",
       "    .dataframe thead th {\n",
       "        text-align: right;\n",
       "    }\n",
       "</style>\n",
       "<table border=\"1\" class=\"dataframe\">\n",
       "  <thead>\n",
       "    <tr style=\"text-align: right;\">\n",
       "      <th></th>\n",
       "      <th>u</th>\n",
       "      <th>g</th>\n",
       "      <th>r</th>\n",
       "      <th>i</th>\n",
       "      <th>z</th>\n",
       "      <th>redshift</th>\n",
       "      <th>dered_u</th>\n",
       "      <th>dered_g</th>\n",
       "      <th>dered_r</th>\n",
       "      <th>dered_i</th>\n",
       "      <th>dered_z</th>\n",
       "      <th>nObserve</th>\n",
       "      <th>nDetect</th>\n",
       "      <th>airmass_u</th>\n",
       "      <th>airmass_g</th>\n",
       "      <th>airmass_r</th>\n",
       "      <th>airmass_i</th>\n",
       "      <th>airmass_z</th>\n",
       "    </tr>\n",
       "    <tr>\n",
       "      <th>id</th>\n",
       "      <th></th>\n",
       "      <th></th>\n",
       "      <th></th>\n",
       "      <th></th>\n",
       "      <th></th>\n",
       "      <th></th>\n",
       "      <th></th>\n",
       "      <th></th>\n",
       "      <th></th>\n",
       "      <th></th>\n",
       "      <th></th>\n",
       "      <th></th>\n",
       "      <th></th>\n",
       "      <th></th>\n",
       "      <th></th>\n",
       "      <th></th>\n",
       "      <th></th>\n",
       "      <th></th>\n",
       "    </tr>\n",
       "  </thead>\n",
       "  <tbody>\n",
       "    <tr>\n",
       "      <td>0</td>\n",
       "      <td>23.263956</td>\n",
       "      <td>20.336773</td>\n",
       "      <td>19.009500</td>\n",
       "      <td>17.672439</td>\n",
       "      <td>16.939607</td>\n",
       "      <td>-0.000081</td>\n",
       "      <td>23.12426</td>\n",
       "      <td>20.25779</td>\n",
       "      <td>18.95512</td>\n",
       "      <td>17.63211</td>\n",
       "      <td>16.90894</td>\n",
       "      <td>18</td>\n",
       "      <td>18</td>\n",
       "      <td>1.189764</td>\n",
       "      <td>1.190681</td>\n",
       "      <td>1.188979</td>\n",
       "      <td>1.189355</td>\n",
       "      <td>1.190206</td>\n",
       "    </tr>\n",
       "    <tr>\n",
       "      <td>1</td>\n",
       "      <td>15.052147</td>\n",
       "      <td>14.061969</td>\n",
       "      <td>13.452418</td>\n",
       "      <td>13.268450</td>\n",
       "      <td>13.168941</td>\n",
       "      <td>0.004506</td>\n",
       "      <td>14.96642</td>\n",
       "      <td>14.00452</td>\n",
       "      <td>13.41139</td>\n",
       "      <td>13.23625</td>\n",
       "      <td>13.13468</td>\n",
       "      <td>1</td>\n",
       "      <td>1</td>\n",
       "      <td>1.253254</td>\n",
       "      <td>1.257836</td>\n",
       "      <td>1.248762</td>\n",
       "      <td>1.250997</td>\n",
       "      <td>1.255533</td>\n",
       "    </tr>\n",
       "    <tr>\n",
       "      <td>2</td>\n",
       "      <td>16.786385</td>\n",
       "      <td>15.825426</td>\n",
       "      <td>15.536318</td>\n",
       "      <td>15.393535</td>\n",
       "      <td>15.350032</td>\n",
       "      <td>0.000472</td>\n",
       "      <td>16.60765</td>\n",
       "      <td>15.68659</td>\n",
       "      <td>15.44004</td>\n",
       "      <td>15.32173</td>\n",
       "      <td>15.29608</td>\n",
       "      <td>2</td>\n",
       "      <td>2</td>\n",
       "      <td>1.022499</td>\n",
       "      <td>1.024105</td>\n",
       "      <td>1.020983</td>\n",
       "      <td>1.021730</td>\n",
       "      <td>1.023291</td>\n",
       "    </tr>\n",
       "    <tr>\n",
       "      <td>3</td>\n",
       "      <td>25.660638</td>\n",
       "      <td>21.188727</td>\n",
       "      <td>20.221158</td>\n",
       "      <td>19.894949</td>\n",
       "      <td>19.634649</td>\n",
       "      <td>0.000006</td>\n",
       "      <td>25.35365</td>\n",
       "      <td>20.99465</td>\n",
       "      <td>20.08727</td>\n",
       "      <td>19.79465</td>\n",
       "      <td>19.55518</td>\n",
       "      <td>4</td>\n",
       "      <td>3</td>\n",
       "      <td>1.205399</td>\n",
       "      <td>1.206058</td>\n",
       "      <td>1.204874</td>\n",
       "      <td>1.205120</td>\n",
       "      <td>1.205712</td>\n",
       "    </tr>\n",
       "    <tr>\n",
       "      <td>4</td>\n",
       "      <td>24.453429</td>\n",
       "      <td>20.699170</td>\n",
       "      <td>19.042368</td>\n",
       "      <td>18.324152</td>\n",
       "      <td>17.982649</td>\n",
       "      <td>-0.000033</td>\n",
       "      <td>23.77140</td>\n",
       "      <td>20.43384</td>\n",
       "      <td>18.86299</td>\n",
       "      <td>18.19028</td>\n",
       "      <td>17.87592</td>\n",
       "      <td>13</td>\n",
       "      <td>12</td>\n",
       "      <td>1.193946</td>\n",
       "      <td>1.194285</td>\n",
       "      <td>1.193738</td>\n",
       "      <td>1.193826</td>\n",
       "      <td>1.194099</td>\n",
       "    </tr>\n",
       "    <tr>\n",
       "      <td>...</td>\n",
       "      <td>...</td>\n",
       "      <td>...</td>\n",
       "      <td>...</td>\n",
       "      <td>...</td>\n",
       "      <td>...</td>\n",
       "      <td>...</td>\n",
       "      <td>...</td>\n",
       "      <td>...</td>\n",
       "      <td>...</td>\n",
       "      <td>...</td>\n",
       "      <td>...</td>\n",
       "      <td>...</td>\n",
       "      <td>...</td>\n",
       "      <td>...</td>\n",
       "      <td>...</td>\n",
       "      <td>...</td>\n",
       "      <td>...</td>\n",
       "      <td>...</td>\n",
       "    </tr>\n",
       "    <tr>\n",
       "      <td>319995</td>\n",
       "      <td>18.365648</td>\n",
       "      <td>17.240883</td>\n",
       "      <td>16.773898</td>\n",
       "      <td>16.484970</td>\n",
       "      <td>16.340403</td>\n",
       "      <td>0.051988</td>\n",
       "      <td>18.13280</td>\n",
       "      <td>17.04065</td>\n",
       "      <td>16.63744</td>\n",
       "      <td>16.38606</td>\n",
       "      <td>16.28741</td>\n",
       "      <td>2</td>\n",
       "      <td>2</td>\n",
       "      <td>1.093010</td>\n",
       "      <td>1.088828</td>\n",
       "      <td>1.097310</td>\n",
       "      <td>1.095145</td>\n",
       "      <td>1.090905</td>\n",
       "    </tr>\n",
       "    <tr>\n",
       "      <td>319996</td>\n",
       "      <td>18.685639</td>\n",
       "      <td>17.665802</td>\n",
       "      <td>17.190434</td>\n",
       "      <td>16.816858</td>\n",
       "      <td>16.636688</td>\n",
       "      <td>0.087261</td>\n",
       "      <td>18.52074</td>\n",
       "      <td>17.51310</td>\n",
       "      <td>17.08711</td>\n",
       "      <td>16.74363</td>\n",
       "      <td>16.60173</td>\n",
       "      <td>2</td>\n",
       "      <td>2</td>\n",
       "      <td>1.051689</td>\n",
       "      <td>1.050838</td>\n",
       "      <td>1.052640</td>\n",
       "      <td>1.052152</td>\n",
       "      <td>1.051252</td>\n",
       "    </tr>\n",
       "    <tr>\n",
       "      <td>319997</td>\n",
       "      <td>21.188972</td>\n",
       "      <td>18.423357</td>\n",
       "      <td>17.295610</td>\n",
       "      <td>16.901072</td>\n",
       "      <td>16.684127</td>\n",
       "      <td>-0.000010</td>\n",
       "      <td>20.98896</td>\n",
       "      <td>18.30760</td>\n",
       "      <td>17.21518</td>\n",
       "      <td>16.84030</td>\n",
       "      <td>16.63555</td>\n",
       "      <td>31</td>\n",
       "      <td>30</td>\n",
       "      <td>1.193259</td>\n",
       "      <td>1.194140</td>\n",
       "      <td>1.192509</td>\n",
       "      <td>1.192868</td>\n",
       "      <td>1.193683</td>\n",
       "    </tr>\n",
       "    <tr>\n",
       "      <td>319998</td>\n",
       "      <td>18.847187</td>\n",
       "      <td>17.318605</td>\n",
       "      <td>16.505729</td>\n",
       "      <td>16.180571</td>\n",
       "      <td>15.911624</td>\n",
       "      <td>-0.000045</td>\n",
       "      <td>16.38998</td>\n",
       "      <td>15.40578</td>\n",
       "      <td>15.18229</td>\n",
       "      <td>15.19693</td>\n",
       "      <td>15.17935</td>\n",
       "      <td>1</td>\n",
       "      <td>1</td>\n",
       "      <td>1.172458</td>\n",
       "      <td>1.172561</td>\n",
       "      <td>1.172481</td>\n",
       "      <td>1.172454</td>\n",
       "      <td>1.172493</td>\n",
       "    </tr>\n",
       "    <tr>\n",
       "      <td>319999</td>\n",
       "      <td>19.860438</td>\n",
       "      <td>18.819866</td>\n",
       "      <td>18.515579</td>\n",
       "      <td>18.414884</td>\n",
       "      <td>18.307998</td>\n",
       "      <td>-0.000965</td>\n",
       "      <td>19.82565</td>\n",
       "      <td>18.78191</td>\n",
       "      <td>18.49081</td>\n",
       "      <td>18.39869</td>\n",
       "      <td>18.30977</td>\n",
       "      <td>1</td>\n",
       "      <td>1</td>\n",
       "      <td>1.057076</td>\n",
       "      <td>1.056240</td>\n",
       "      <td>1.057976</td>\n",
       "      <td>1.057518</td>\n",
       "      <td>1.056650</td>\n",
       "    </tr>\n",
       "  </tbody>\n",
       "</table>\n",
       "<p>320000 rows × 18 columns</p>\n",
       "</div>"
      ],
      "text/plain": [
       "                u          g          r          i          z  redshift  \\\n",
       "id                                                                        \n",
       "0       23.263956  20.336773  19.009500  17.672439  16.939607 -0.000081   \n",
       "1       15.052147  14.061969  13.452418  13.268450  13.168941  0.004506   \n",
       "2       16.786385  15.825426  15.536318  15.393535  15.350032  0.000472   \n",
       "3       25.660638  21.188727  20.221158  19.894949  19.634649  0.000006   \n",
       "4       24.453429  20.699170  19.042368  18.324152  17.982649 -0.000033   \n",
       "...           ...        ...        ...        ...        ...       ...   \n",
       "319995  18.365648  17.240883  16.773898  16.484970  16.340403  0.051988   \n",
       "319996  18.685639  17.665802  17.190434  16.816858  16.636688  0.087261   \n",
       "319997  21.188972  18.423357  17.295610  16.901072  16.684127 -0.000010   \n",
       "319998  18.847187  17.318605  16.505729  16.180571  15.911624 -0.000045   \n",
       "319999  19.860438  18.819866  18.515579  18.414884  18.307998 -0.000965   \n",
       "\n",
       "         dered_u   dered_g   dered_r   dered_i   dered_z  nObserve  nDetect  \\\n",
       "id                                                                            \n",
       "0       23.12426  20.25779  18.95512  17.63211  16.90894        18       18   \n",
       "1       14.96642  14.00452  13.41139  13.23625  13.13468         1        1   \n",
       "2       16.60765  15.68659  15.44004  15.32173  15.29608         2        2   \n",
       "3       25.35365  20.99465  20.08727  19.79465  19.55518         4        3   \n",
       "4       23.77140  20.43384  18.86299  18.19028  17.87592        13       12   \n",
       "...          ...       ...       ...       ...       ...       ...      ...   \n",
       "319995  18.13280  17.04065  16.63744  16.38606  16.28741         2        2   \n",
       "319996  18.52074  17.51310  17.08711  16.74363  16.60173         2        2   \n",
       "319997  20.98896  18.30760  17.21518  16.84030  16.63555        31       30   \n",
       "319998  16.38998  15.40578  15.18229  15.19693  15.17935         1        1   \n",
       "319999  19.82565  18.78191  18.49081  18.39869  18.30977         1        1   \n",
       "\n",
       "        airmass_u  airmass_g  airmass_r  airmass_i  airmass_z  \n",
       "id                                                             \n",
       "0        1.189764   1.190681   1.188979   1.189355   1.190206  \n",
       "1        1.253254   1.257836   1.248762   1.250997   1.255533  \n",
       "2        1.022499   1.024105   1.020983   1.021730   1.023291  \n",
       "3        1.205399   1.206058   1.204874   1.205120   1.205712  \n",
       "4        1.193946   1.194285   1.193738   1.193826   1.194099  \n",
       "...           ...        ...        ...        ...        ...  \n",
       "319995   1.093010   1.088828   1.097310   1.095145   1.090905  \n",
       "319996   1.051689   1.050838   1.052640   1.052152   1.051252  \n",
       "319997   1.193259   1.194140   1.192509   1.192868   1.193683  \n",
       "319998   1.172458   1.172561   1.172481   1.172454   1.172493  \n",
       "319999   1.057076   1.056240   1.057976   1.057518   1.056650  \n",
       "\n",
       "[320000 rows x 18 columns]"
      ]
     },
     "execution_count": 25,
     "metadata": {},
     "output_type": "execute_result"
    }
   ],
   "source": [
    "# split data into X and y\n",
    "X = train.iloc[:,:18]\n",
    "Y = train.iloc[:,18:]\n",
    "X"
   ]
  },
  {
   "cell_type": "markdown",
   "metadata": {},
   "source": [
    "4. 기본적인 파라미터값 조정으로, 안하셔도 무방합니다. 또한 정확도를 측정해보기 위해 train 데이터를 나눴습니다."
   ]
  },
  {
   "cell_type": "code",
   "execution_count": 26,
   "metadata": {},
   "outputs": [],
   "source": [
    "# split data into train and test sets\n",
    "seed = 7\n",
    "test_size = 0.33\n",
    "X_train, X_test, y_train, y_test = train_test_split(X, Y, test_size=test_size, random_state=seed)"
   ]
  },
  {
   "cell_type": "markdown",
   "metadata": {},
   "source": [
    "5. 훈련을 시작합니다."
   ]
  },
  {
   "cell_type": "code",
   "execution_count": 27,
   "metadata": {},
   "outputs": [
    {
     "name": "stderr",
     "output_type": "stream",
     "text": [
      "C:\\Users\\82104\\Anaconda3\\lib\\site-packages\\sklearn\\preprocessing\\label.py:219: DataConversionWarning: A column-vector y was passed when a 1d array was expected. Please change the shape of y to (n_samples, ), for example using ravel().\n",
      "  y = column_or_1d(y, warn=True)\n",
      "C:\\Users\\82104\\Anaconda3\\lib\\site-packages\\sklearn\\preprocessing\\label.py:252: DataConversionWarning: A column-vector y was passed when a 1d array was expected. Please change the shape of y to (n_samples, ), for example using ravel().\n",
      "  y = column_or_1d(y, warn=True)\n"
     ]
    },
    {
     "data": {
      "text/plain": [
       "XGBClassifier(base_score=0.5, booster='gbtree', colsample_bylevel=1,\n",
       "              colsample_bynode=1, colsample_bytree=1, gamma=0,\n",
       "              learning_rate=0.1, max_delta_step=0, max_depth=3,\n",
       "              min_child_weight=1, missing=None, n_estimators=100, n_jobs=1,\n",
       "              nthread=None, objective='multi:softprob', random_state=0,\n",
       "              reg_alpha=0, reg_lambda=1, scale_pos_weight=1, seed=None,\n",
       "              silent=None, subsample=1, verbosity=1)"
      ]
     },
     "execution_count": 27,
     "metadata": {},
     "output_type": "execute_result"
    }
   ],
   "source": [
    "# fit model no training data\n",
    "model = xgb.XGBClassifier()\n",
    "model.fit(X_train, y_train)"
   ]
  },
  {
   "cell_type": "markdown",
   "metadata": {},
   "source": [
    "6. 결과를 보니 redshift의 영향을 많이 받는 것을 볼 수 있군요."
   ]
  },
  {
   "cell_type": "code",
   "execution_count": 33,
   "metadata": {},
   "outputs": [
    {
     "data": {
      "text/plain": [
       "<matplotlib.axes._subplots.AxesSubplot at 0x12507d07bc8>"
      ]
     },
     "execution_count": 33,
     "metadata": {},
     "output_type": "execute_result"
    },
    {
     "data": {
      "image/png": "[encoded data removed]",
      "text/plain": [
       "<Figure size 432x288 with 1 Axes>"
      ]
     },
     "metadata": {
      "needs_background": "light"
     },
     "output_type": "display_data"
    }
   ],
   "source": [
    "plot_importance(model)"
   ]
  },
  {
   "cell_type": "markdown",
   "metadata": {},
   "source": [
    "7. 정확도도 측정해봅니다. 아무런 조정 없이 기본만으로도 91프로나 나오는군요."
   ]
  },
  {
   "cell_type": "code",
   "execution_count": 29,
   "metadata": {},
   "outputs": [],
   "source": [
    "# make predictions for test data\n",
    "y_pred = model.predict(X_test)\n",
    "predictions = [round(value) for value in y_pred]"
   ]
  },
  {
   "cell_type": "code",
   "execution_count": 30,
   "metadata": {},
   "outputs": [
    {
     "data": {
      "text/plain": [
       "0.09231060606060607"
      ]
     },
     "execution_count": 30,
     "metadata": {},
     "output_type": "execute_result"
    }
   ],
   "source": [
    "# evaluate predictions\n",
    "mean_squared_error(y_test, y_pred)"
   ]
  },
  {
   "cell_type": "code",
   "execution_count": 31,
   "metadata": {},
   "outputs": [
    {
     "name": "stdout",
     "output_type": "stream",
     "text": [
      "Accuracy: 91.05%\n"
     ]
    }
   ],
   "source": [
    "# accuracy\n",
    "accuracy = accuracy_score(y_test, predictions)\n",
    "print(\"Accuracy: %.2f%%\" % (accuracy * 100.0))"
   ]
  },
  {
   "cell_type": "markdown",
   "metadata": {},
   "source": [
    "8. 마지막 제출파일을 만듭니다."
   ]
  },
  {
   "cell_type": "code",
   "execution_count": 32,
   "metadata": {},
   "outputs": [],
   "source": [
    "# final result\n",
    "pred = model.predict(test)\n",
    "submission['class'] = pred\n",
    "submission.to_csv(\"submission.csv\",index=False, encoding='utf-8-sig')"
   ]
  },
  {
   "cell_type": "markdown",
   "metadata": {},
   "source": [
    "느낀점:\n",
    "단순히 xgboost만 돌렸음에도 불구하고 91프로가 나온다는 것은, 데이터 상관관계의 분석이나, 데이터 전처리 과정보다는 파라미터 조정 싸움이 될 수도 있다는 뜻인 것 같군요. 이상 수정해야 할 것이 있다면 댓글로 알려주세요!"
   ]
  }
 ],
 "metadata": {
  "kernelspec": {
   "display_name": "Python 3",
   "language": "python",
   "name": "python3"
  },
  "language_info": {
   "codemirror_mode": {
    "name": "ipython",
    "version": 3
   },
   "file_extension": ".py",
   "mimetype": "text/x-python",
   "name": "python",
   "nbconvert_exporter": "python",
   "pygments_lexer": "ipython3",
   "version": "3.7.4"
  }
 },
 "nbformat": 4,
 "nbformat_minor": 2
}
